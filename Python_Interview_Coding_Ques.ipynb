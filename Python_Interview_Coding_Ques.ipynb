{
  "nbformat": 4,
  "nbformat_minor": 0,
  "metadata": {
    "colab": {
      "provenance": [],
      "authorship_tag": "ABX9TyPIVs+o71kMLEAlryDADMbJ",
      "include_colab_link": true
    },
    "kernelspec": {
      "name": "python3",
      "display_name": "Python 3"
    },
    "language_info": {
      "name": "python"
    }
  },
  "cells": [
    {
      "cell_type": "markdown",
      "metadata": {
        "id": "view-in-github",
        "colab_type": "text"
      },
      "source": [
        "<a href=\"https://colab.research.google.com/github/AKASHPATI007/Python-Interview-Ques/blob/main/Python_Interview_Coding_Ques.ipynb\" target=\"_parent\"><img src=\"https://colab.research.google.com/assets/colab-badge.svg\" alt=\"Open In Colab\"/></a>"
      ]
    },
    {
      "cell_type": "markdown",
      "source": [
        "**For pandas coding interview question--**\n",
        "\n",
        "https://www.mlstack.cafe/blog/pandas-python-interview-questions"
      ],
      "metadata": {
        "id": "XUvVuelxxRdS"
      }
    },
    {
      "cell_type": "markdown",
      "source": [
        "**For numpy interview coding questions---**\n",
        "\n",
        "https://www.mlstack.cafe/blog/numpy-interview-questions"
      ],
      "metadata": {
        "id": "qC0NOGKvxZmz"
      }
    },
    {
      "cell_type": "markdown",
      "source": [
        "**Python Coding Question On String--**"
      ],
      "metadata": {
        "id": "MN0vCXPvuYmA"
      }
    },
    {
      "cell_type": "code",
      "source": [
        "# Python program to remove character from string\n",
        "\n",
        "str = input(\"please enter a string : \")\n",
        "ch = input(\"please enter a character : \")\n",
        "print(str.replace(ch,\" \")) "
      ],
      "metadata": {
        "colab": {
          "base_uri": "https://localhost:8080/"
        },
        "id": "CJN1EvFyujSK",
        "outputId": "57876d1b-c2e3-4b57-863b-205c7452484d"
      },
      "execution_count": null,
      "outputs": [
        {
          "output_type": "stream",
          "name": "stdout",
          "text": [
            "please enter a string : rajesh\n",
            "please enter a character : a\n",
            "r jesh\n"
          ]
        }
      ]
    },
    {
      "cell_type": "code",
      "source": [
        "# Python Program to count occurrence of given character in string.\n",
        "\n",
        "string = input(\"Please enter String : \")\n",
        "char = input(\"Please enter a Character : \")\n",
        "count = 0\n",
        "for i in range(len(string)):\n",
        "    if(string[i] == char):\n",
        "        count = count + 1\n",
        "print(\"Total Number of occurence of \", char, \"is :\" , count)\n"
      ],
      "metadata": {
        "colab": {
          "base_uri": "https://localhost:8080/"
        },
        "id": "S1iyxR3lvPJj",
        "outputId": "f6d7f52f-cb03-4fd2-87ef-889bd353322f"
      },
      "execution_count": null,
      "outputs": [
        {
          "output_type": "stream",
          "name": "stdout",
          "text": [
            "Please enter String : sardsabssa\n",
            "Please enter a Character : s\n",
            "Total Number of occurence of  s is : 4\n"
          ]
        }
      ]
    },
    {
      "cell_type": "code",
      "source": [
        "# Anagrams program in Python\n",
        "\n",
        "def anagramCheck(str1, str2):\n",
        "    if (sorted(str1) == sorted(str2)) :  \n",
        "        return True \n",
        "    else :  \n",
        "        return False \n",
        "str1 = input(\"Please enter String 1 : \")\n",
        "str2 = input(\"Please enter String 2 : \")\n",
        "if anagramCheck(str1,str2):\n",
        "    print(\"Anagram\")\n",
        "else:\n",
        "    print(\"Not an anagram\")"
      ],
      "metadata": {
        "id": "ZA2BTVUtvbtb"
      },
      "execution_count": null,
      "outputs": []
    },
    {
      "cell_type": "code",
      "source": [
        "# Palindrome program of String in Python\n",
        "\n",
        "string = input(\"Please give a String : \")\n",
        "if(string == string[:: - 1]):\n",
        "   print(\"Given String is a Palindrome\")\n",
        "else:\n",
        "   print(\"Given String is not a Palindrome\")"
      ],
      "metadata": {
        "colab": {
          "base_uri": "https://localhost:8080/"
        },
        "id": "D_pedtO5vocj",
        "outputId": "87b98e24-2935-4c7e-81be-776eb0eb30e8"
      },
      "execution_count": null,
      "outputs": [
        {
          "output_type": "stream",
          "name": "stdout",
          "text": [
            "Please give a String : asfsdg\n",
            "Given String is not a Palindrome\n"
          ]
        }
      ]
    },
    {
      "cell_type": "code",
      "source": [
        "# For any input character, we have to check whether a character is a vowel or consonant.\n",
        "\n",
        "Ch=input('Enter a character to check vowel or consonant :') \n",
        "if(ch == 'a' or ch == 'e' or ch == 'i' or ch == 'o' or ch == 'u' or ch == 'A' or ch == 'E' or ch == 'I' or ch == 'O' or ch == 'U'):\n",
        "\t#if ‘if’ condition satisfy\n",
        "\tprint('Given character', ch ,'is vowel')\n",
        "else: \n",
        "#if ‘if’ condition does not satisfy the condition\n",
        "\tprint('Given character',ch, 'is  consonant')"
      ],
      "metadata": {
        "colab": {
          "base_uri": "https://localhost:8080/"
        },
        "id": "YcZVHSWov93R",
        "outputId": "a59a9756-4291-4d4d-f2a9-9d571eeb78f4"
      },
      "execution_count": null,
      "outputs": [
        {
          "output_type": "stream",
          "name": "stdout",
          "text": [
            "Enter a character to check vowel or consonant :sachun\n",
            "Given character a is vowel\n"
          ]
        }
      ]
    },
    {
      "cell_type": "code",
      "source": [
        "# Python code to check given character is digit or not\n",
        "\n",
        "ch = input(\"Enter a character : \") \n",
        "if ch >= '0' and ch <= '9': #comparing the value of ‘ch’ \n",
        "\t# if the condition holds true then this block will execute\n",
        "    \tprint(\"Given Character \", ch, \"is a Digit\")\n",
        "else: #this block will execute if the condition will not satisfies\n",
        "    print(\"Given Character \", ch, \"is not a Digit\")"
      ],
      "metadata": {
        "id": "xLepaCWBwink"
      },
      "execution_count": null,
      "outputs": []
    },
    {
      "cell_type": "code",
      "source": [
        "# Python code to check given character is digit or not using ‘isdigit()’ function\n",
        "\n",
        "# taking input from user\n",
        "ch = input(\"Enter a character : \") \n",
        "# checks if character ‘ch’ is digit or not\n",
        "if(ch.isdigit()): \n",
        "     #if ‘ch.digit()’ returns “True”\n",
        "    print(\"The Given Character \", ch, \"is a Digit\")\n",
        "else:\n",
        "      #if ‘ch.digit()’ returns “False”\n",
        "    print(\"The Given Character \", ch, \"is not a Digit\")"
      ],
      "metadata": {
        "id": "p3N7jb7Byqkx"
      },
      "execution_count": null,
      "outputs": []
    },
    {
      "cell_type": "code",
      "source": [
        "# Replace string space with given character in Python\n",
        "\n",
        "#taking input from the user\n",
        "string = input(\"Enter a String : \")\n",
        "result = ''  #empty string\n",
        "ch = input(\"Enter a Character : \")\n",
        "for i in string:  #iterating using for loop\n",
        "        if i == ' ':  #if any space found in the string\n",
        "            i = ch   #replacing space with character\n",
        "        result += i   #concatenating each character of the string without space\n",
        "print('String after removing space with t = ',result)"
      ],
      "metadata": {
        "id": "opBgTymGywPX"
      },
      "execution_count": null,
      "outputs": []
    },
    {
      "cell_type": "code",
      "source": [
        "# Python Program to Convert lowercase to uppercase character\n",
        "\n",
        "string = input(\"Enter a String : \")\n",
        "result=''\n",
        "for i in string:  #iterate through each letter/character from the string\n",
        "        if i.islower():  #if lowercase\n",
        "            i = i.upper() #converting lowercase into uppercase letter\n",
        "        result += i #concatenating each character of the string without lowercase letter \n",
        "print(\"String after converting lower case to upper :\",result)"
      ],
      "metadata": {
        "id": "2fR-eecVy7nq"
      },
      "execution_count": null,
      "outputs": []
    },
    {
      "cell_type": "code",
      "source": [
        "# Python Program to Convert lowercase vowel to uppercase\n",
        "\n",
        "string = input(\"Enter a string: \")\n",
        "# define lowercase vowels\n",
        "vowels = \"aeiou\"\n",
        "for char in string:\n",
        "    if char in vowels:\n",
        "        # convert the lowercase vowel to uppercase\n",
        "        upper_char = char.upper()\n",
        "        # replace the lowercase vowel with the uppercase vowel\n",
        "        string = string.replace(char, upper_char)\n",
        "print(\"Updated string:\", string)"
      ],
      "metadata": {
        "colab": {
          "base_uri": "https://localhost:8080/"
        },
        "id": "BX4q__QkzPDl",
        "outputId": "eb40ad05-a1fc-408b-cea0-9fbae4b6ce62"
      },
      "execution_count": null,
      "outputs": [
        {
          "output_type": "stream",
          "name": "stdout",
          "text": [
            "Enter a string: hello world\n",
            "Updated string: hEllO wOrld\n"
          ]
        }
      ]
    },
    {
      "cell_type": "code",
      "source": [
        "# Python program to remove vowels from the string\n",
        "\n",
        "#taking the input string from the user\n",
        "string = input(\"Enter a String : \") \n",
        "result=''\n",
        "for i in string:  \n",
        "#iterating through each character of the string\n",
        "    if i in ('a', 'e', 'i', 'o', 'u', 'A', 'E', 'I', 'O', 'U'):  \n",
        "     #seaching for vowels\n",
        "        i = ''  \n",
        "#if vowel found replace it with empty string\n",
        "    result += i \n",
        "    #concatenate rest of the string\n",
        "print(\"String after removing the vowels :\",result)\n"
      ],
      "metadata": {
        "id": "2kmT-YUPzffX"
      },
      "execution_count": null,
      "outputs": []
    },
    {
      "cell_type": "code",
      "source": [
        "# Python Program to count Vowels and Consonants in String\n",
        "\n",
        "#taking input from the user\n",
        "string = input(\"Enter a String : \")   \n",
        "vowels = 0  #variable to count number of vowels\n",
        "consonants = 0 #variable to count number of consonants\n",
        "for i in string:  #string iteration \n",
        "    if i in ('a', 'e', 'i', 'o', 'u','A', 'E', 'I', 'O', 'U'):  #if character in string is vowel\n",
        "        vowels+=1 #if vowel increment variable ‘vowel’ with one\n",
        "    elif i.isalpha():  #checking if the character is alphabet\n",
        "        consonants+=1  #if consonant increment variable ‘consonants’ with one\n",
        "print(\"Vowels :\",vowels,\"Consonants:\",consonants)"
      ],
      "metadata": {
        "id": "ljrNg8QizobR"
      },
      "execution_count": null,
      "outputs": []
    },
    {
      "cell_type": "code",
      "source": [
        "# Print highest frequency Character in String in Python\n",
        "\n",
        "string = input(\"Please Enter a string: \")\n",
        "freq_dict = {}\n",
        "# Count the frequency of each character\n",
        "for char in string:\n",
        "    if char in freq_dict:\n",
        "        freq_dict[char] += 1\n",
        "    else:\n",
        "        freq_dict[char] = 1\n",
        "max_freq = max(freq_dict.values())\n",
        "# Print the characters with maximum frequency\n",
        "for char in freq_dict:\n",
        "    if freq_dict[char] == max_freq:\n",
        "        print(char, end=' ')"
      ],
      "metadata": {
        "id": "V7JpwBJDzxy2"
      },
      "execution_count": null,
      "outputs": []
    },
    {
      "cell_type": "code",
      "source": [
        "# Python Program to Replace First Vowel With ‘-‘ in String\n",
        "\n",
        "def replace_vowel(string):\n",
        "    vowels = \"AEIOUaeiou\"\n",
        "    for i in range(len(string)):\n",
        "        if string[i] in vowels:\n",
        "            string = string[:i] + '-' + string[i+1:]\n",
        "            break\n",
        "    return string\n",
        "\n",
        "string = input(\"Please enter a string: \")\n",
        "print(\"Original String:\", string)\n",
        "print(\"Modified String:\", replace_vowel(string)) "
      ],
      "metadata": {
        "id": "I175-PIUz7bt"
      },
      "execution_count": null,
      "outputs": []
    },
    {
      "cell_type": "code",
      "source": [
        "# Python program to Count alphabets, digits, special char in string\n",
        "\n",
        "#taking string as an input from the user\n",
        "string = input(\"Enter a String : \")\n",
        "alphabets=0\n",
        "digits=0\n",
        "specialChars=0\n",
        "#checks for each character in the string\n",
        "for i in string: \n",
        "\t#if character of the string is an alphabet\n",
        "    \t\tif i.isalpha():\n",
        "       \t\t\t alphabets+=1\n",
        "\t\t#if character of the string is a digit\n",
        "    \t\telif i.isdigit():\n",
        "        \t\t\tdigits+=1\n",
        "    \t\telse: #if character of the string is a special character\n",
        "        \t\t\tspecialChars+=1\n",
        "print(\"alphabets =\",alphabets,\"digits =\",digits,\"specialChars =\",specialChars)\n"
      ],
      "metadata": {
        "colab": {
          "base_uri": "https://localhost:8080/"
        },
        "id": "R98bnK2e0XAV",
        "outputId": "02ace64e-3180-459a-ee9e-7be85150b8d7"
      },
      "execution_count": null,
      "outputs": [
        {
          "output_type": "stream",
          "name": "stdout",
          "text": [
            "Enter a String : mfxgk\n",
            "alphabets = 5 digits = 0 specialChars = 0\n"
          ]
        }
      ]
    },
    {
      "cell_type": "code",
      "source": [
        "# Python Program to Separate Characters in a Given String\n",
        "\n",
        "str = \"Hello Python\"\n",
        "new_str = \"\\n\".join(list(str))\n",
        "print(new_str)"
      ],
      "metadata": {
        "id": "1kE7SaUS0kYj"
      },
      "execution_count": null,
      "outputs": []
    },
    {
      "cell_type": "code",
      "source": [
        "# Python program to remove spaces from string without inbuilt function\n",
        "\n",
        "\n",
        "#taking input from the user\n",
        "string = input(\"Enter a String : \")\n",
        "result=''\n",
        "#iterating the string\n",
        "for i in string:\n",
        "    #if the character is not a space\n",
        "    if i!=' ':\n",
        "        result += i\n",
        "print(\"String after removing the spaces :\",result)\n"
      ],
      "metadata": {
        "id": "we25M2-r0-Lk"
      },
      "execution_count": null,
      "outputs": []
    },
    {
      "cell_type": "code",
      "source": [
        "# Python program to concatenate String using join() method\n",
        "\n",
        "#taking inputs from the user\n",
        "str1 = input('Enter first string: ')\n",
        "str2 = input('Enter second string: ')\n",
        "#printing the output after using join() method\n",
        "print(\"String after concatenation :\",\"\".join([str1, str2]))\n"
      ],
      "metadata": {
        "id": "7etZZ2W91Kx0"
      },
      "execution_count": null,
      "outputs": []
    },
    {
      "cell_type": "code",
      "source": [
        "# Python program to concatenate two string\n",
        "\n",
        "#taking input from the user\n",
        "str1 = input('Enter first string: ')\n",
        "str2 = input('Enter second string: ')\n",
        "#using string concatenation method ‘+’\n",
        "str3 = str1 + str2\n",
        "print(\"String after concatenation :\",str3)"
      ],
      "metadata": {
        "id": "QVcbIMZq1ay1"
      },
      "execution_count": null,
      "outputs": []
    },
    {
      "cell_type": "code",
      "source": [
        "# Python Program to Remove Repeated Character from String\n",
        "\n",
        "def remove_duplicates(s):\n",
        "    unique_chars = set()\n",
        "    output = \"\"\n",
        "    for char in s:\n",
        "        if char not in unique_chars:\n",
        "            unique_chars.add(char)\n",
        "            output += char\n",
        "    return output\n",
        "string = input(\"Please Enter a string: \")\n",
        "print(remove_duplicates(string))\n"
      ],
      "metadata": {
        "id": "yCUohcp-1nvt"
      },
      "execution_count": null,
      "outputs": []
    },
    {
      "cell_type": "code",
      "source": [
        "# Python program to find sum of integers present in the string\n",
        "\n",
        "str1 = input('Enter a string: ')\n",
        "sum=0\n",
        "for i in string:\n",
        "\t#if character is a digit\n",
        "    if i.isdigit():\n",
        "\t\t#taking sum of integral digits present in the string \n",
        "        sum=sum+int(i)\n",
        "print(\"sum=\",sum)"
      ],
      "metadata": {
        "id": "ybVxtA8f1x6x"
      },
      "execution_count": null,
      "outputs": []
    },
    {
      "cell_type": "code",
      "source": [
        "# Python program to find all non repeating characters in the string\n",
        "\n",
        "string = input('Please enter a string: ')\n",
        "freq_dict = {}\n",
        "for char in string:\n",
        "    if char in freq_dict:\n",
        "        freq_dict[char] += 1\n",
        "    else:\n",
        "        freq_dict[char] = 1\n",
        "non_repeating_chars = \"\"\n",
        "for char in string:\n",
        "    if freq_dict[char] == 1:\n",
        "        non_repeating_chars += char\n",
        "print(\"Non-repeating characters:\", non_repeating_chars)"
      ],
      "metadata": {
        "id": "_7_amGQy18Zp"
      },
      "execution_count": null,
      "outputs": []
    },
    {
      "cell_type": "code",
      "source": [
        "# Python Program to Copy one String to Another String\n",
        "\n",
        "string = input(\"Please Enter a string: \")\n",
        "new_string = \"\"\n",
        "for char in string:\n",
        "    new_string += char\n",
        "print(\"New String:\", new_string)"
      ],
      "metadata": {
        "id": "1RMPOrLR2GyF"
      },
      "execution_count": null,
      "outputs": []
    },
    {
      "cell_type": "code",
      "source": [
        "# Python program to sort string character in ascending order\n",
        "\n",
        "\n",
        "#taking input from the user\n",
        "string = input(\"Enter the string : \")\n",
        "#converting string into list of its characters\n",
        "strList=list(string) \n",
        "#sorting elements of list\n",
        "sortedString=''.join(sorted(strList)) \n",
        "print(\"String Sorted in ascending order :\", sortedString)"
      ],
      "metadata": {
        "id": "1dNdc3wl2Rbm"
      },
      "execution_count": null,
      "outputs": []
    },
    {
      "cell_type": "code",
      "source": [
        "# Python program to sort string in descending order\n",
        "\n",
        "#taking input from the user\n",
        "string = input(\"Enter the string : \")\n",
        "#converting string into list of its characters\n",
        "strList=list(string) \n",
        "#sorting elements of list in reverse order by making ‘reverse = True’\n",
        "sortedString=''.join(sorted(strList, reverse =True)) \n",
        "print(\"String Sorted in ascending order :\", sortedString)\n"
      ],
      "metadata": {
        "id": "H5bZMv5Z2aHt"
      },
      "execution_count": null,
      "outputs": []
    },
    {
      "cell_type": "markdown",
      "source": [
        "**Python Coding Questions on Array**"
      ],
      "metadata": {
        "id": "wuLS1vBWyhHX"
      }
    },
    {
      "cell_type": "code",
      "source": [
        "# Python program to print even numbers from array (list)\n",
        "\n",
        "#taking the input from the user to fix the array size\n",
        "size=int(input(\"Enter the number of elements you want in array: \"))\n",
        "arr=[]\n",
        "sum=0\n",
        "# adding elements to the array (list)\n",
        "for i in range(0,size):\n",
        "    elem=int(input(\"Please give value for index \"+str(i)+\": \"))\n",
        "    arr.append(elem)\n",
        "print(\"All even number in array are \")\n",
        "# check and print if any element of array (list) is even\n",
        "for i in range(0,size):\n",
        "    if arr[i]%2==0:\n",
        "        print(arr[i],end=' ')"
      ],
      "metadata": {
        "colab": {
          "base_uri": "https://localhost:8080/"
        },
        "id": "lWw7V3oMzGPQ",
        "outputId": "1b5d1fd2-f07e-46a9-909c-0d9a1ec62d0f"
      },
      "execution_count": null,
      "outputs": [
        {
          "output_type": "stream",
          "name": "stdout",
          "text": [
            "Enter the number of elements you want in array: 5\n",
            "Please give value for index 0: 23\n",
            "Please give value for index 1: 35\n",
            "Please give value for index 2: 65\n",
            "Please give value for index 3: 33\n",
            "Please give value for index 4: 22\n",
            "All even number in array are \n",
            "22 "
          ]
        }
      ]
    },
    {
      "cell_type": "code",
      "source": [
        "# Python Program to find missing number in array\n",
        "\n",
        "arr = []\n",
        "n = int(input(\"enter size of array : \"))\n",
        "for x in range(n-1):\n",
        "    x=int(input(\"enter element of array : \"))\n",
        "    arr.append(x)\n",
        "sum = (n*(n+1))/2;\n",
        "sumArr = 0\n",
        "for i in range(n-1):\n",
        "    sumArr = sumArr+arr[i];\n",
        "print(int(sum-sumArr))"
      ],
      "metadata": {
        "colab": {
          "base_uri": "https://localhost:8080/"
        },
        "id": "Z9Tojqi_zfEK",
        "outputId": "7c08d288-fc56-48d4-843f-b84de0ed154e"
      },
      "execution_count": null,
      "outputs": [
        {
          "output_type": "stream",
          "name": "stdout",
          "text": [
            "enter size of array : 3\n",
            "enter element of array : 3\n",
            "enter element of array : 4\n",
            "-1\n"
          ]
        }
      ]
    },
    {
      "cell_type": "code",
      "source": [
        "# Python program to find duplicates in an Array\n",
        "\n",
        "\n",
        "arr, occur = [], [];\n",
        "n = int(input(\"please enter the size of array: \"))\n",
        "for x in range(n):\n",
        "    occur.append(0)\n",
        "for x in range(n):\n",
        "    element = int(input(f\"please enter the element of array element between 0 to {n-1} :\"))\n",
        "    arr.append(element)\n",
        "    occur[arr[x]]=occur[arr[x]]+1\n",
        "for x in range(n):\n",
        "    if occur[x]>1:\n",
        "        print(f\"{x} is repeated {occur[x]} times\")"
      ],
      "metadata": {
        "id": "PMgy5mGd0UHt"
      },
      "execution_count": null,
      "outputs": []
    },
    {
      "cell_type": "code",
      "source": [
        "# Find all Pairs Whose Sum is Equal to Given number in Python\n",
        "\n",
        "def find_pairs(arr, target_sum):\n",
        "    pairs = []\n",
        "    for i in range(len(arr)):\n",
        "        for j in range(i+1, len(arr)):\n",
        "            if arr[i] + arr[j] == target_sum:\n",
        "                pairs.append((arr[i], arr[j]))\n",
        "    return pairs\n",
        "\n",
        "arr = [1, 2, 3, 4, 5, 6, 7, 8, 9, 10]\n",
        "target_sum = 12\n",
        "result = find_pairs(arr, target_sum)\n",
        "print(\"All pairs Whose sum is equal to \",target_sum,\" is: \\n\",result)"
      ],
      "metadata": {
        "colab": {
          "base_uri": "https://localhost:8080/"
        },
        "id": "HPbuJoNH0cY4",
        "outputId": "6111010f-e09b-4edf-94e1-e4336a1dabe6"
      },
      "execution_count": null,
      "outputs": [
        {
          "output_type": "stream",
          "name": "stdout",
          "text": [
            "All pairs Whose sum is equal to  12  is: \n",
            " [(2, 10), (3, 9), (4, 8), (5, 7)]\n"
          ]
        }
      ]
    },
    {
      "cell_type": "code",
      "source": [
        "# Python Program to check two arrays are equal or not\n",
        "\n",
        "arr1=[1,2,3,4,5]\n",
        "arr2=[1,3,4,5,7]\n",
        "if len(arr1) == len(arr2):\n",
        "    print(\"array is equal\")\n",
        "else:\n",
        "    print(\"array is not equal\")"
      ],
      "metadata": {
        "colab": {
          "base_uri": "https://localhost:8080/"
        },
        "id": "HMIgizGB00Cu",
        "outputId": "76a2682e-374a-4385-aeae-b52b16c0896b"
      },
      "execution_count": null,
      "outputs": [
        {
          "output_type": "stream",
          "name": "stdout",
          "text": [
            "array is equal\n"
          ]
        }
      ]
    },
    {
      "cell_type": "code",
      "source": [
        "# Python Program to find largest and smallest number in an array\n",
        "\n",
        "arr = []\n",
        "n = int(input(\"enter size of array : \"))\n",
        "for x in range(n):\n",
        "    x=int(input(\"enter element of array : \"))\n",
        "    arr.append(x)\n",
        "largest = arr[0]\n",
        "smallest = arr[0]\n",
        "for i in range(n):\n",
        "    if arr[i]>largest:\n",
        "        largest = arr[i]\n",
        "    if arr[i]<smallest:\n",
        "        smallest = arr[i]\n",
        "print(f\"largest element in array is {largest}\")\n",
        "print(f\"smallest element in array is {smallest}\")"
      ],
      "metadata": {
        "id": "bl4HF56B1DO3",
        "colab": {
          "base_uri": "https://localhost:8080/"
        },
        "outputId": "3073c5f4-91fa-4f8a-d822-405e86c62f0f"
      },
      "execution_count": 8,
      "outputs": [
        {
          "output_type": "stream",
          "name": "stdout",
          "text": [
            "enter size of array : 5\n",
            "enter element of array : 34\n",
            "enter element of array : 3\n",
            "enter element of array : 23\n",
            "enter element of array : 12\n",
            "enter element of array : 32\n",
            "largest element in array is 34\n",
            "smallest element in array is 3\n"
          ]
        }
      ]
    },
    {
      "cell_type": "code",
      "source": [
        "# Python program to find the second largest number in Array\n",
        "\n",
        "import array\n",
        "arr = []\n",
        "n = int(input(\"enter size of array : \"))\n",
        "for x in range(n):\n",
        "    x=int(input(\"enter element of array : \"))\n",
        "    arr.append(x)\n",
        "sorted_array = sorted(array.array('i', arr))\n",
        "for i in range(len(arr)-1, 0, -1):\n",
        "    if sorted_array[i]!=sorted_array[i-1]:\n",
        "        print(f\"second largest element is {sorted_array[i-1]}\")\n",
        "        break \n",
        "        "
      ],
      "metadata": {
        "colab": {
          "base_uri": "https://localhost:8080/"
        },
        "id": "B8c9ouD22ilQ",
        "outputId": "993559cf-e419-407e-83c9-194f4a471a2f"
      },
      "execution_count": 9,
      "outputs": [
        {
          "output_type": "stream",
          "name": "stdout",
          "text": [
            "enter size of array : 2\n",
            "enter element of array : 5\n",
            "enter element of array : 3\n",
            "second largest element is 3\n"
          ]
        }
      ]
    },
    {
      "cell_type": "code",
      "source": [
        "# Python Program to find top two maximum number in array\n",
        "\n",
        "import array\n",
        "arr = []\n",
        "n = int(input(\"enter size of array : \"))\n",
        "for x in range(n):\n",
        "    x=int(input(\"enter element of array : \"))\n",
        "    arr.append(x)\n",
        "sorted_array = sorted(array.array('i', arr))\n",
        "for i in range(len(arr)-1, 0, -1):\n",
        "    if sorted_array[i]!=sorted_array[i-1]:\n",
        "        print(f\"First two largest element of array is {sorted_array[i-1]} and {sorted_array[i]}\")\n",
        "        break "
      ],
      "metadata": {
        "colab": {
          "base_uri": "https://localhost:8080/"
        },
        "id": "Gz7mSGw82-b8",
        "outputId": "678862ee-6d18-4918-ae28-b900ce478bbb"
      },
      "execution_count": 11,
      "outputs": [
        {
          "output_type": "stream",
          "name": "stdout",
          "text": [
            "enter size of array : 4\n",
            "enter element of array : 23\n",
            "enter element of array : 43\n",
            "enter element of array : 132\n",
            "enter element of array : 35\n",
            "First two largest element of array is 43 and 132\n"
          ]
        }
      ]
    },
    {
      "cell_type": "code",
      "source": [
        "# Python Program to remove duplicates from Array\n",
        "\n",
        "import array\n",
        "arr, count = [],[]\n",
        "n = int(input(\"enter size of array : \"))\n",
        "for x in range(n):\n",
        "    count.append(0)\n",
        "    x=int(input(\"enter element of array : \"))\n",
        "    arr.append(x)\n",
        "print(\"Array elements after removing duplicates\")\n",
        "for x in range(n):\n",
        "    \n",
        "    count[arr[x]]=count[arr[x]]+1\n",
        "    if count[arr[x]]==1:\n",
        "        print(arr[x])"
      ],
      "metadata": {
        "colab": {
          "base_uri": "https://localhost:8080/"
        },
        "id": "YOtoIBIf3O9G",
        "outputId": "8b50ab88-5bb5-41ae-a28a-568d2f921288"
      },
      "execution_count": 13,
      "outputs": [
        {
          "output_type": "stream",
          "name": "stdout",
          "text": [
            "enter size of array : 3\n",
            "enter element of array : 1\n",
            "enter element of array : 2\n",
            "enter element of array : 1\n",
            "Array elements after removing duplicates\n",
            "1\n",
            "2\n"
          ]
        }
      ]
    },
    {
      "cell_type": "code",
      "source": [
        "# Python Program to find top two maximum number in array\n",
        "\n",
        "import array\n",
        "arr = []\n",
        "n = int(input(\"enter size of array : \"))\n",
        "for x in range(n):\n",
        "    x=int(input(\"enter element of array : \"))\n",
        "    arr.append(x)\n",
        "sorted_array = sorted(array.array('i', arr))\n",
        "for i in range(len(arr)-1, 0, -1):\n",
        "    if sorted_array[i]!=sorted_array[i-1]:\n",
        "        print(f\"First two largest element of array is {sorted_array[i-1]} and {sorted_array[i]}\")\n",
        "        break"
      ],
      "metadata": {
        "colab": {
          "base_uri": "https://localhost:8080/"
        },
        "id": "dhbHb8fy3480",
        "outputId": "d6bc2c48-d6b2-48f3-bd63-503199c3e2c7"
      },
      "execution_count": 14,
      "outputs": [
        {
          "output_type": "stream",
          "name": "stdout",
          "text": [
            "enter size of array : 4\n",
            "enter element of array : 23\n",
            "enter element of array : 25\n",
            "enter element of array : 12\n",
            "enter element of array : 65\n",
            "First two largest element of array is 25 and 65\n"
          ]
        }
      ]
    },
    {
      "cell_type": "code",
      "source": [
        "# Reverse an array(list) using while loop Python\n",
        "\n",
        "# taking the input from the user to fix the array size\n",
        "size=int(input(\"Enter the number of elements you want in array: \"))\n",
        "# Create two empty lists\n",
        "arr=[]\n",
        "revArr=[]\n",
        "# adding the elements to the list\n",
        "for i in range(0,size):\n",
        "    elem=int(input(\"Please give value for index \"+str(i)+\": \"))\n",
        "    arr.append(elem)\n",
        "startIndex = 0;\n",
        "lastIndex = size - 1;\n",
        "# iterate the while loop till the lastindex 0\n",
        "while (lastIndex>=0):\n",
        "    revArr.append(arr[lastIndex])\n",
        "    startIndex+=1\n",
        "    lastIndex-=1\n",
        "# printing the reversed list\n",
        "print(\"Array in reverse order\")\n",
        "for i in range(0,size):     \n",
        "    print(revArr[i],end=' ')"
      ],
      "metadata": {
        "colab": {
          "base_uri": "https://localhost:8080/"
        },
        "id": "mqqK5GCO4M4q",
        "outputId": "93d4b68e-f3c3-4f59-c939-14deca81ee58"
      },
      "execution_count": 15,
      "outputs": [
        {
          "output_type": "stream",
          "name": "stdout",
          "text": [
            "Enter the number of elements you want in array: 4\n",
            "Please give value for index 0: 12\n",
            "Please give value for index 1: 13\n",
            "Please give value for index 2: 43\n",
            "Please give value for index 3: 54\n",
            "Array in reverse order\n",
            "54 43 13 12 "
          ]
        }
      ]
    },
    {
      "cell_type": "code",
      "source": [
        "# Python program to print an array(list) in reverse order\n",
        "\n",
        "#taking the input from the user to fix the array size\n",
        "size=int(input(\"Enter the number of elements you want in array: \"))\n",
        "#creating an empty list\n",
        "arr=[]\n",
        "#adding the elements of the list by taking inputs from the user\n",
        "for i in range(0,size):\n",
        "    elem=int(input(\"Please give value for index \"+str(i)+\": \"))\n",
        "    arr.append(elem)\n",
        "print(\"Array in reverse order\")\n",
        "# Reversing the list\n",
        "for i in range(size-1, -1, -1):     \n",
        "    print(arr[i],end=' ')"
      ],
      "metadata": {
        "colab": {
          "base_uri": "https://localhost:8080/"
        },
        "id": "0pFBtIXd4jgK",
        "outputId": "9493a580-97c2-4ebd-dbf5-3cc88e116ee3"
      },
      "execution_count": 16,
      "outputs": [
        {
          "output_type": "stream",
          "name": "stdout",
          "text": [
            "Enter the number of elements you want in array: 5\n",
            "Please give value for index 0: 12\n",
            "Please give value for index 1: 14\n",
            "Please give value for index 2: 65\n",
            "Please give value for index 3: 43\n",
            "Please give value for index 4: 21\n",
            "Array in reverse order\n",
            "21 43 65 14 12 "
          ]
        }
      ]
    },
    {
      "cell_type": "code",
      "source": [
        "# Python program to print length of an array(list)\n",
        "\n",
        "#given array (list)\n",
        "arr = [1,2,3,4,5]\n",
        "# print the return value of len(arr) i.e. the length of the array (list)\n",
        "print(\"Length of the array:\",len(arr))"
      ],
      "metadata": {
        "colab": {
          "base_uri": "https://localhost:8080/"
        },
        "id": "J3LMGPzI5XlV",
        "outputId": "59b7d223-1e83-434e-f694-de71dc6e2313"
      },
      "execution_count": 17,
      "outputs": [
        {
          "output_type": "stream",
          "name": "stdout",
          "text": [
            "Length of the array: 5\n"
          ]
        }
      ]
    },
    {
      "cell_type": "code",
      "source": [
        "# Python program to insert an element at end in the array(list)\n",
        "\n",
        "arr = [1,2,3,4,5]\n",
        "num=int(input(\"Enter a number to insert in array at end :\"))\n",
        "# adding element at the end of the array(list)\n",
        "arr.append(num)\n",
        "print(\"Array after inserting\",num,\"at end\",arr)"
      ],
      "metadata": {
        "colab": {
          "base_uri": "https://localhost:8080/"
        },
        "id": "qiDWYt0r5lfM",
        "outputId": "96b40a43-eec0-4f8d-d3ff-7f4c00298511"
      },
      "execution_count": 18,
      "outputs": [
        {
          "output_type": "stream",
          "name": "stdout",
          "text": [
            "Enter a number to insert in array at end :4\n",
            "Array after inserting 4 at end [1, 2, 3, 4, 5, 4]\n"
          ]
        }
      ]
    },
    {
      "cell_type": "code",
      "source": [
        "# Python Program to Insert element at given location in array(list)\n",
        "\n",
        "# given array (list)\n",
        "arr = [1, 2, 3, 4, 5]\n",
        "num=int(input(\"Enter a number to insert in array : \"))\n",
        "index=int(input(\"Enter a index to insert value : \"))\n",
        "if index >= len(arr):\n",
        "    print(\"please enter index smaller than\",len(arr))\n",
        "else:\n",
        "    # insering element ‘num’ at ‘index’ position\n",
        "    arr.insert(index, num)  \n",
        "print(\"Array after inserting\",num,\"=\",arr)"
      ],
      "metadata": {
        "colab": {
          "base_uri": "https://localhost:8080/"
        },
        "id": "YgBXgxDJ50ik",
        "outputId": "ec09e718-7160-493d-fd6f-1ef021d508b2"
      },
      "execution_count": 19,
      "outputs": [
        {
          "output_type": "stream",
          "name": "stdout",
          "text": [
            "Enter a number to insert in array : 3\n",
            "Enter a index to insert value : 2\n",
            "Array after inserting 3 = [1, 2, 3, 3, 4, 5]\n"
          ]
        }
      ]
    },
    {
      "cell_type": "code",
      "source": [
        "# Python program to delete a given element from an array(list)\n",
        "\n",
        "#taking input to fix the size of the array\n",
        "size=int(input(\"Enter the number of elements you want in array: \"))\n",
        "arr=[]\n",
        "# adding elements to the array\n",
        "for i in range(0,size):\n",
        "    elem=int(input(\"Please give value for index \"+str(i)+\": \"))\n",
        "    arr.append(elem)\n",
        "num=int(input(\"Enter a number to remove from array : \"))\n",
        "# removing element ‘num’ from the array.\n",
        "arr.remove(num)\n",
        "print(\"Array after removing\",num,\"=\",arr)"
      ],
      "metadata": {
        "colab": {
          "base_uri": "https://localhost:8080/"
        },
        "id": "-KT-atdK6EGD",
        "outputId": "f646d7d1-a355-4a43-eede-4b188a2fb3e0"
      },
      "execution_count": 20,
      "outputs": [
        {
          "output_type": "stream",
          "name": "stdout",
          "text": [
            "Enter the number of elements you want in array: 3\n",
            "Please give value for index 0: 12\n",
            "Please give value for index 1: 34\n",
            "Please give value for index 2: 54\n",
            "Enter a number to remove from array : 34\n",
            "Array after removing 34 = [12, 54]\n"
          ]
        }
      ]
    },
    {
      "cell_type": "code",
      "source": [
        "# Python Program to Delete Element at Given Index in Array\n",
        "#1st method\n",
        "arr = [1, 2, 3, 4, 5]\n",
        "arr.pop(2)\n",
        "print(\"Array after removing from index : \", arr) \n",
        "\n",
        "# 2nd method\n",
        "arr = [1, 2, 3, 4, 5]\n",
        "del arr[2]\n",
        "print(\"Array after removing from index : \", arr)\n",
        "\n",
        "# 3rd method\n",
        "arr = [1, 2, 3, 4, 5]\n",
        "arr = arr[:2] + arr[3:]\n",
        "print(\"Array after removing from index : \", arr)\n",
        "\n"
      ],
      "metadata": {
        "id": "GY_lw-KysqtN"
      },
      "execution_count": null,
      "outputs": []
    },
    {
      "cell_type": "code",
      "source": [
        "# Python program to find the sum of array (list) elements\n",
        "\n",
        "size=int(input(\"Enter the number of elements you want in array: \"))\n",
        "arr=[]\n",
        "sum=0\n",
        "# adding elements to the array (list)\n",
        "for i in range(0,size):\n",
        "    elem=int(input(\"Please give value for index \"+str(i)+\": \"))\n",
        "    arr.append(elem)\n",
        "    sum+=elem\n",
        "print(\"Sum of array elements = \",sum)"
      ],
      "metadata": {
        "colab": {
          "base_uri": "https://localhost:8080/"
        },
        "id": "id8Gtki2tM_Q",
        "outputId": "b5634395-5111-4dc6-a0a3-c460e1d762bd"
      },
      "execution_count": 21,
      "outputs": [
        {
          "output_type": "stream",
          "name": "stdout",
          "text": [
            "Enter the number of elements you want in array: 4\n",
            "Please give value for index 0: 12\n",
            "Please give value for index 1: 34\n",
            "Please give value for index 2: 32\n",
            "Please give value for index 3: 23\n",
            "Sum of array elements =  101\n"
          ]
        }
      ]
    },
    {
      "cell_type": "code",
      "source": [
        "# Python program to print even numbers from array (list)\n",
        "\n",
        "#taking the input from the user to fix the array size\n",
        "size=int(input(\"Enter the number of elements you want in array: \"))\n",
        "arr=[]\n",
        "sum=0\n",
        "# adding elements to the array (list)\n",
        "for i in range(0,size):\n",
        "    elem=int(input(\"Please give value for index \"+str(i)+\": \"))\n",
        "    arr.append(elem)\n",
        "print(\"All even number in array are \")\n",
        "# check and print if any element of array (list) is even\n",
        "for i in range(0,size):\n",
        "    if arr[i]%2==0:\n",
        "        print(arr[i],end=' ')"
      ],
      "metadata": {
        "colab": {
          "base_uri": "https://localhost:8080/"
        },
        "id": "x9DfxeHLtZtt",
        "outputId": "d7b21526-4da9-4229-9983-1dc2423d45c2"
      },
      "execution_count": 22,
      "outputs": [
        {
          "output_type": "stream",
          "name": "stdout",
          "text": [
            "Enter the number of elements you want in array: 4\n",
            "Please give value for index 0: 12\n",
            "Please give value for index 1: 23\n",
            "Please give value for index 2: 24\n",
            "Please give value for index 3: 35\n",
            "All even number in array are \n",
            "12 24 "
          ]
        }
      ]
    },
    {
      "cell_type": "code",
      "source": [
        "# Python program to print odd numbers from array (list)\n",
        "\n",
        "#taking the input from the user to fix the array size\n",
        "size=int(input(\"Enter the number of elements you want in array: \"))\n",
        "arr=[]\n",
        "sum=0\n",
        "# adding elements to the array (list)\n",
        "for i in range(0,size):\n",
        "    elem=int(input(\"Please give value for index \"+str(i)+\": \"))\n",
        "    arr.append(elem)\n",
        "print(\"All even number in array are \")\n",
        "# check and print if any element of array (list) is odd\n",
        "for i in range(0,size):\n",
        "    if arr[i]%2!=0:\n",
        "        print(arr[i],end=' ')"
      ],
      "metadata": {
        "colab": {
          "base_uri": "https://localhost:8080/"
        },
        "id": "gbFquaxXto8b",
        "outputId": "59b3ac6e-6413-4ed9-9a15-655f99f06040"
      },
      "execution_count": 23,
      "outputs": [
        {
          "output_type": "stream",
          "name": "stdout",
          "text": [
            "Enter the number of elements you want in array: 4\n",
            "Please give value for index 0: 23\n",
            "Please give value for index 1: 34\n",
            "Please give value for index 2: 43\n",
            "Please give value for index 3: 54\n",
            "All even number in array are \n",
            "23 43 "
          ]
        }
      ]
    },
    {
      "cell_type": "code",
      "source": [
        "# Perform left rotation by two positions in Array Using Python\n",
        "\n",
        "# 1st method\n",
        "arr = [1, 2, 3, 4, 5]\n",
        "arr.append(arr.pop(0))\n",
        "arr.append(arr.pop(0))\n",
        "print(\"After two left rotaion :\",arr)\n",
        "\n",
        "# 2nd ethod\n",
        "arr = [1, 2, 3, 4, 5]\n",
        "arr = arr[2:] + arr[:2]\n",
        "print(\"After two left rotaion :\",arr)\n",
        "\n",
        "# 3rd method\n",
        "arr = [1, 2, 3, 4, 5]\n",
        "for i in range(2):\n",
        "    temp = arr[0]\n",
        "    for j in range(len(arr)-1):\n",
        "        arr[j] = arr[j+1]\n",
        "    arr[-1] = temp\n",
        "print(\"After two left rotaion :\",arr)"
      ],
      "metadata": {
        "id": "In-hPCWRt0q5"
      },
      "execution_count": null,
      "outputs": []
    },
    {
      "cell_type": "code",
      "source": [
        "# Perform right rotation on array by two positions in Python\n",
        "\n",
        "#taking the input from the user to fix the array size\n",
        "size=int(input(\"Enter the number of elements you want in array: \"))\n",
        "arr=[]\n",
        "# adding elements to the array (list)\n",
        "for i in range(0,size):\n",
        "    elem=int(input(\"Please give value for index \"+str(i)+\": \"))\n",
        "    arr.append(elem)\n",
        "for i in range(0,2):\n",
        "# storing last element of the array (list) in temp variable\n",
        "    temp=arr[size-1];\n",
        "    for j in range(size-1,-1,-1):\n",
        "        arr[j]=arr[j-1]\n",
        "# making the last element of the array, the first element\n",
        "    arr[0]=temp;\n",
        "print(\"Array after performing right rotation :\")\n",
        "print(arr)"
      ],
      "metadata": {
        "colab": {
          "base_uri": "https://localhost:8080/"
        },
        "id": "nCMalafbuSKN",
        "outputId": "791e4cb7-a1c6-4be9-d938-646f5fdbe3a4"
      },
      "execution_count": 24,
      "outputs": [
        {
          "output_type": "stream",
          "name": "stdout",
          "text": [
            "Enter the number of elements you want in array: 4\n",
            "Please give value for index 0: 34\n",
            "Please give value for index 1: 54\n",
            "Please give value for index 2: 45\n",
            "Please give value for index 3: 76\n",
            "Array after performing right rotation :\n",
            "[45, 76, 34, 54]\n"
          ]
        }
      ]
    },
    {
      "cell_type": "code",
      "source": [
        "# Python Program to Merge two Arrays\n",
        "\n",
        "# 1st method\n",
        "arr1 = [1, 2, 3]\n",
        "arr2 = [4, 5, 6]\n",
        "merged_arr = arr1 + arr2\n",
        "print(\"Array After Merging =\",merged_arr)\n",
        "\n",
        "# 2nd method\n",
        "arr1 = [1, 2, 3]\n",
        "arr2 = [4, 5, 6]\n",
        "for element in arr2:\n",
        "    arr1.append(element)\n",
        "print(\"Array After Merging =\",arr1)\n",
        "\n",
        "# 3rd method\n",
        "arr1 = [1, 2, 3]\n",
        "arr2 = [4, 5, 6]\n",
        "arr1.extend(arr2)\n",
        "print(\"Array After Merging =\",arr1)"
      ],
      "metadata": {
        "id": "eOkRTYY5u-y4"
      },
      "execution_count": null,
      "outputs": []
    },
    {
      "cell_type": "code",
      "source": [
        "# Python Program to Find Highest Frequency Element in Array\n",
        "\n",
        "# 1st method\n",
        "arr = [1, 2, 3, 4, 5, 6, 5, 4, 5, 1, 2, 3, 4, 5, 6, 5, 4, 5]\n",
        "freq_dict = {}\n",
        "for element in arr:\n",
        "    if element in freq_dict:\n",
        "        freq_dict[element] += 1\n",
        "    else:\n",
        "        freq_dict[element] = 1\n",
        "highest_freq_element = max(freq_dict, key=freq_dict.get)\n",
        "print(\"Highest frequency element:\", highest_freq_element)"
      ],
      "metadata": {
        "colab": {
          "base_uri": "https://localhost:8080/"
        },
        "id": "Q0x4agYQvhfJ",
        "outputId": "b6bdb89f-0c31-41b6-9aa7-ed69fb54ab04"
      },
      "execution_count": 25,
      "outputs": [
        {
          "output_type": "stream",
          "name": "stdout",
          "text": [
            "Highest frequency element: 5\n"
          ]
        }
      ]
    },
    {
      "cell_type": "code",
      "source": [
        "# Python Program to add two number using Recursion\n",
        "\n",
        "def add(num1, num2):\n",
        "    if num2 == 0:\n",
        "        return num1\n",
        "    else:\n",
        "        return add(num1 ^ num2, (num1 & num2) << 1)\n",
        "num1 = 5\n",
        "num2 = 7\n",
        "result = add(num1, num2)\n",
        "print(\"The sum of\", num1, \"and\", num2, \"is\", result)"
      ],
      "metadata": {
        "colab": {
          "base_uri": "https://localhost:8080/"
        },
        "id": "PyTRcBZBvwel",
        "outputId": "03389dc3-a858-4d87-a1aa-883b1ca3e4a7"
      },
      "execution_count": 26,
      "outputs": [
        {
          "output_type": "stream",
          "name": "stdout",
          "text": [
            "The sum of 5 and 7 is 12\n"
          ]
        }
      ]
    },
    {
      "cell_type": "markdown",
      "source": [],
      "metadata": {
        "id": "A0jnybn0xO2K"
      }
    }
  ]
}